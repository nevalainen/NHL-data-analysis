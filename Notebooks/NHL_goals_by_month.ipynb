{
  "nbformat": 4,
  "nbformat_minor": 0,
  "metadata": {
    "colab": {
      "name": "NHL-goals-by-month.ipynb",
      "provenance": [],
      "collapsed_sections": []
    },
    "kernelspec": {
      "name": "python3",
      "display_name": "Python 3"
    },
    "language_info": {
      "name": "python"
    }
  },
  "cells": [
    {
      "cell_type": "markdown",
      "metadata": {
        "id": "AgJYJCzBzbZB"
      },
      "source": [
        "# Goal differences by month\n",
        "\n",
        "One would think that teams tend to score more during the early season, when they are fresh and excited to play after offseason. \n",
        "\n",
        "Maybe teams don't also have so structured defence at the first months, and the goal totals decrease towards end of the season when team defence keeps improving during season.\n",
        "\n",
        "Well, lets find out:\n",
        "\n",
        "This analysis here pulls goal scoring data (only amount of goals) from regular season games, and stores them for each month and visualises the data.\n",
        "\n",
        "\n",
        "\n"
      ]
    },
    {
      "cell_type": "code",
      "metadata": {
        "id": "wgiUTH2os8dz",
        "colab": {
          "base_uri": "https://localhost:8080/"
        },
        "outputId": "76929c39-226c-448f-9fb2-526f977f0238"
      },
      "source": [
        "import json\n",
        "import requests\n",
        "import pandas as pd\n",
        "import calendar\n",
        "import seaborn as sns\n",
        "import matplotlib.pyplot as plt\n",
        "\n",
        "BASE_URL = \"https://statsapi.web.nhl.com\"\n",
        "SEASONS_LINK = \"/api/v1/seasons\"\n",
        "SCHEDULE_LINK = \"/api/v1/schedule\"\n",
        "GAMETYPE_REGULATION = \"gameType=R\"\n",
        "SEASON = \"season=\"\n",
        "START_DATE = \"startDate=\"\n",
        "END_DATE = \"endDate=\"\n",
        "YEARS_QTY = 20\n",
        "\n",
        "\"\"\"\n",
        "season_data contains only the data needed for goals average analysis.\n",
        "\n",
        "seasons is a list that contains more details about seasons/months that is useful\n",
        "during processing\n",
        "\"\"\"\n",
        "season_data = []\n",
        "seasons = []\n",
        "\n",
        "months = [\n",
        "          10,\n",
        "          11,\n",
        "          12,\n",
        "          1,\n",
        "          2,\n",
        "          3,\n",
        "          4\n",
        "]\n",
        "\n",
        "resp = requests.get(\"{}{}\".format(BASE_URL,SEASONS_LINK))\n",
        "seasons_all = json.loads(resp.text)\n",
        "\n",
        "for i in range(YEARS_QTY+1, 1, -1):\n",
        "  seasons.append({'seasonId': seasons_all['seasons'][-i]['seasonId']})\n",
        "\n",
        "\n",
        "for season in seasons:\n",
        "  for month in months:\n",
        "    season[month] = {}\n",
        "    season[month]['monthName'] = calendar.month_name[month]\n",
        "    if month > 8:\n",
        "      season[month]['monthEndDay'] = calendar.monthrange(int(season['seasonId'][:-4]), month)[1]\n",
        "      season[month]['year'] = int(season['seasonId'][:-4])\n",
        "    else:\n",
        "      season[month]['monthEndDay'] = calendar.monthrange(int(season['seasonId'][-4:]), month)[1]\n",
        "      season[month]['year'] = int(season['seasonId'][-4:])\n",
        "    \n",
        "    start_date = \"{}-{}-01\".format(season[month]['year'], str(month))\n",
        "    end_date = \"{}-{}-{}\".format(season[month]['year'], str(month), season[month]['monthEndDay'])\n",
        "\n",
        "    resp = requests.get(\"{}{}?{}&{}{}&{}{}\".format(BASE_URL, SCHEDULE_LINK, GAMETYPE_REGULATION, START_DATE, start_date, END_DATE, end_date))\n",
        "    games_month = json.loads(resp.text)\n",
        "    season[month]['games'] = games_month['totalGames']\n",
        "\n",
        "    #Calculate total goals\n",
        "    month_goals = 0\n",
        "    for date in games_month['dates']:\n",
        "      for game in date['games']:\n",
        "        month_goals = month_goals + game['teams']['away']['score'] + game['teams']['home']['score']\n",
        "    #df.append(season['seasonId'], season[month]'[monthName'], month_goals)\n",
        "    season[month]['totalGoals'] = month_goals\n",
        "    \n",
        "    try:\n",
        "      season[month]['goalsAverage'] = month_goals / season[month]['games']\n",
        "    except ZeroDivisionError:\n",
        "      season[month]['goalsAverage'] = 0\n",
        "    \n",
        "    season_data.append([\n",
        "                        season['seasonId'], \n",
        "                        season[month]['monthName'], \n",
        "                        season[month]['goalsAverage']\n",
        "                        ])\n",
        "\n",
        "#Uncomment if wanted to save to json file for viewing the data or external usage\n",
        "\"\"\"\n",
        "with open('data_seasons.json', 'w') as outfile:\n",
        "\t\tjson.dump(seasons, outfile)\n",
        "\"\"\"                \n",
        "\n",
        "#Lets pass the data to Dataframe:\n",
        "df = pd.DataFrame(season_data, columns = ['year', 'month', 'goalsAvg'])\n",
        "print(df)"
      ],
      "execution_count": 143,
      "outputs": [
        {
          "output_type": "stream",
          "name": "stdout",
          "text": [
            "         year     month  goalsAvg\n",
            "0    20002001   October  5.652695\n",
            "1    20002001  November  5.356784\n",
            "2    20002001  December  5.556650\n",
            "3    20002001   January  5.478673\n",
            "4    20002001  February  5.666667\n",
            "..        ...       ...       ...\n",
            "135  20202021  December  0.000000\n",
            "136  20202021   January  6.029851\n",
            "137  20202021  February  5.794444\n",
            "138  20202021     March  5.752137\n",
            "139  20202021     April  5.901345\n",
            "\n",
            "[140 rows x 3 columns]\n"
          ]
        }
      ]
    },
    {
      "cell_type": "markdown",
      "metadata": {
        "id": "nUAT-WHOcQh-"
      },
      "source": [
        "Now time for visualisation.\n",
        "\n",
        "First, quick check if average goals per month give us any information:"
      ]
    },
    {
      "cell_type": "code",
      "metadata": {
        "id": "poPOpzLQ59S9",
        "colab": {
          "base_uri": "https://localhost:8080/",
          "height": 497
        },
        "outputId": "6c6cee54-78e8-448e-8252-be9daf91b511"
      },
      "source": [
        "\n",
        "plt.figure(figsize=(16,8))\n",
        "boxtwo = sns.boxplot(x = 'month',\n",
        "                     y = 'goalsAvg',\n",
        "                     data = (df[df['goalsAvg'] > 0]), #excule months with 0 goals (no season began yet)\n",
        "                     order = [\n",
        "                              \"October\",\n",
        "                              \"November\",\n",
        "                              \"December\",\n",
        "                              \"January\",\n",
        "                              \"February\",\n",
        "                              \"March\",\n",
        "                              \"April\"\n",
        "                     ])"
      ],
      "execution_count": 144,
      "outputs": [
        {
          "output_type": "display_data",
          "data": {
            "image/png": "[encoded data removed]",
            "text/plain": [
              "<Figure size 1152x576 with 1 Axes>"
            ]
          },
          "metadata": {
            "needs_background": "light"
          }
        }
      ]
    },
    {
      "cell_type": "markdown",
      "metadata": {
        "id": "Psqs5SAZAiHm"
      },
      "source": [
        "Well, that really dont give us much information. Maybe some conclusions can be made about October and and January having slightly higher goal totals. The graph above shows that monthly goal averages vary quite a lot (0.8-1.2 goals per month), which lead us to next thing:\n",
        "\n",
        "Only way to have big sample size here is to increase amount of years. If we want to have sample size of 20 per month, we need to see results from 20 years. Following chart shows us how much goal averages vary between seasons:"
      ]
    },
    {
      "cell_type": "code",
      "metadata": {
        "colab": {
          "base_uri": "https://localhost:8080/",
          "height": 926
        },
        "id": "0IBIkHqCQprH",
        "outputId": "9a3c54bb-7b01-4312-f1a5-2c87bf7ae2d3"
      },
      "source": [
        "goals_avg_per_season = df[df['goalsAvg'] > 0].groupby('year').mean().reset_index()\n",
        "goals_avg_per_season.plot(y='goalsAvg', x='year', kind = 'bar', figsize = [16,8])\n",
        "print(goals_avg_per_season)\n",
        "plt.show()"
      ],
      "execution_count": 145,
      "outputs": [
        {
          "output_type": "stream",
          "name": "stdout",
          "text": [
            "        year  goalsAvg\n",
            "0   20002001  5.490395\n",
            "1   20012002  5.246174\n",
            "2   20022003  5.319380\n",
            "3   20032004  5.170633\n",
            "4   20052006  6.170043\n",
            "5   20062007  5.850316\n",
            "6   20072008  5.534672\n",
            "7   20082009  5.825053\n",
            "8   20092010  5.694153\n",
            "9   20102011  5.591569\n",
            "10  20112012  5.485340\n",
            "11  20122013  5.470426\n",
            "12  20132014  5.416399\n",
            "13  20142015  5.458335\n",
            "14  20152016  5.460351\n",
            "15  20162017  5.537666\n",
            "16  20172018  5.967377\n",
            "17  20182019  6.028698\n",
            "18  20192020  6.001766\n",
            "19  20202021  5.869444\n"
          ]
        },
        {
          "output_type": "display_data",
          "data": {
            "image/png": "[encoded data removed]",
            "text/plain": [
              "<Figure size 1152x576 with 1 Axes>"
            ]
          },
          "metadata": {
            "needs_background": "light"
          }
        }
      ]
    },
    {
      "cell_type": "markdown",
      "metadata": {
        "id": "FfJwgAaLV6Np"
      },
      "source": [
        "It shows that there is pretty big difference between seasons, and eras too. For example, the jump between seasons 2016-2017 and 2017-2018 is pretty high (maybe due to stricter line with slashing? Well that would be topic of its own).\n",
        "\n",
        "So maybe it would be better to compare goal averages from each month to its season goal average.\n",
        "\n"
      ]
    },
    {
      "cell_type": "code",
      "metadata": {
        "colab": {
          "base_uri": "https://localhost:8080/"
        },
        "id": "TYL8TYsmWqxn",
        "outputId": "e3087486-687c-4a1e-e45d-ab81b4ddd6a5"
      },
      "source": [
        "\n",
        "df.loc[:,'seasonAvg'] = float(0.0)\n",
        "df.loc[:,'seasonAvgDiff'] = float(0.0)\n",
        "\n",
        "for index, row in df.iterrows():\n",
        "  df.at[index, 'seasonAvg'] = goals_avg_per_season.loc[goals_avg_per_season['year'] == row['year'], ['goalsAvg']].values[0][0]\n",
        "    \n",
        "  \n",
        "for index, row in df.iterrows():\n",
        "  df.at[index, 'seasonAvgDiff'] = (row['goalsAvg'] / row['seasonAvg'] - 1) * 100\n",
        "\n",
        "print(df)\n",
        "\n"
      ],
      "execution_count": 146,
      "outputs": [
        {
          "output_type": "stream",
          "name": "stdout",
          "text": [
            "         year     month  goalsAvg  seasonAvg  seasonAvgDiff\n",
            "0    20002001   October  5.652695   5.490395       2.956065\n",
            "1    20002001  November  5.356784   5.490395      -2.433542\n",
            "2    20002001  December  5.556650   5.490395       1.206749\n",
            "3    20002001   January  5.478673   5.490395      -0.213500\n",
            "4    20002001  February  5.666667   5.490395       3.210547\n",
            "..        ...       ...       ...        ...            ...\n",
            "135  20202021  December  0.000000   5.869444    -100.000000\n",
            "136  20202021   January  6.029851   5.869444       2.732907\n",
            "137  20202021  February  5.794444   5.869444      -1.277802\n",
            "138  20202021     March  5.752137   5.869444      -1.998614\n",
            "139  20202021     April  5.901345   5.869444       0.543509\n",
            "\n",
            "[140 rows x 5 columns]\n"
          ]
        }
      ]
    },
    {
      "cell_type": "markdown",
      "metadata": {
        "id": "dojDKzFgsWJ6"
      },
      "source": [
        "Now we have a column \"seasonAvgDiff\", that shows how much goal average in month differs from season average (in percent). \n",
        "\n",
        "So what does the visualisation present us now?\n"
      ]
    },
    {
      "cell_type": "code",
      "metadata": {
        "colab": {
          "base_uri": "https://localhost:8080/",
          "height": 515
        },
        "id": "pvkxPpRzsWyj",
        "outputId": "b7cbaee9-5f90-4535-f953-fa8465e1a5b9"
      },
      "source": [
        "plt.figure(figsize=(16,8))\n",
        "boxtwo = sns.boxplot(x = 'month',\n",
        "                     y = 'seasonAvgDiff',\n",
        "                     data = (df[df['goalsAvg'] > 0]), #excule months with 0 goals (no season began yet)\n",
        "                     order = [\n",
        "                              \"October\",\n",
        "                              \"November\",\n",
        "                              \"December\",\n",
        "                              \"January\",\n",
        "                              \"February\",\n",
        "                              \"March\",\n",
        "                              \"April\"\n",
        "                     ])\n",
        "plt.axhline(0, c='r')"
      ],
      "execution_count": 147,
      "outputs": [
        {
          "output_type": "execute_result",
          "data": {
            "text/plain": [
              "<matplotlib.lines.Line2D at 0x7f213ccd5650>"
            ]
          },
          "metadata": {},
          "execution_count": 147
        },
        {
          "output_type": "display_data",
          "data": {
            "image/png": "[encoded data removed]",
            "text/plain": [
              "<Figure size 1152x576 with 1 Axes>"
            ]
          },
          "metadata": {
            "needs_background": "light"
          }
        }
      ]
    },
    {
      "cell_type": "markdown",
      "metadata": {
        "id": "AuHAu-tNwIpG"
      },
      "source": [
        "Obviously while it is not certain that October is the highest scoring month of the season, the data seems to support that goal scoring is most likely above season average in October. Also November seems to have generally a bit lower goal scoring. Maybe structured team defence takes some time to get started, or perhaps after some period of time, coaches have enough material from opponents strategies to counter them?\n",
        "\n",
        "Earlier boxplot that was comparing monthly averages in general showed something similar trend with early season, but this one seems to amplify those results.\n",
        "\n",
        "However, there is not much conclusions that could be made for the rest of the season. Maybe January has something similar going on as October, after Christmas break, and also shortened seasons have started in January, so that probably has a minor effect on the results\n",
        "\n"
      ]
    }
  ]
}