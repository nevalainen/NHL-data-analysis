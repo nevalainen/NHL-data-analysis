{
  "nbformat": 4,
  "nbformat_minor": 0,
  "metadata": {
    "colab": {
      "name": "cross-checking-rule-change.ipynb",
      "provenance": [],
      "collapsed_sections": [],
      "authorship_tag": "ABX9TyP1UFa4BsiLi6D5yzPqCHOB"
    },
    "kernelspec": {
      "name": "python3",
      "display_name": "Python 3"
    },
    "language_info": {
      "name": "python"
    }
  },
  "cells": [
    {
      "cell_type": "markdown",
      "metadata": {
        "id": "acZeHFWKtQq6"
      },
      "source": [
        "For season 2021-2022, NHL announced that \"*there will be a tighter standard of enforcement for Rule 59 - Cross-checking*\". \n",
        "\n",
        "Cross-checking seems to be so heavily hard-coded into mind of hockey players, that if the threshold of giving cross-checking penalty is lowered, that should be seen on data. Right? \n",
        "\n",
        "In this notebook, we:\n",
        "- Get all games withing wanted time period (YEARS_QTY defines amount of seasons)\n",
        "- Loop through data of each game, collecting all fouls led to penalty\n",
        "- Filter out cross checkings, calculate the average per game\n",
        "\n",
        "\n",
        "##TODO:\n",
        "This notebook could be modified so that time period and penalty type could be changed simply e.g. changing single variable"
      ]
    },
    {
      "cell_type": "code",
      "metadata": {
        "id": "HNatcsEYRhCW"
      },
      "source": [
        "import json\n",
        "import requests\n",
        "import pandas as pd\n",
        "from datetime import datetime, timedelta\n",
        "import seaborn as sns\n",
        "import matplotlib.pyplot as plt"
      ],
      "execution_count": 42,
      "outputs": []
    },
    {
      "cell_type": "code",
      "metadata": {
        "colab": {
          "base_uri": "https://localhost:8080/"
        },
        "id": "fldXONPpRpZa",
        "outputId": "30fb1ecb-56e3-4a5e-9632-618fd1d79a91"
      },
      "source": [
        "BASE_URL = \"https://statsapi.web.nhl.com\"\n",
        "SEASONS_LINK = \"/api/v1/seasons\"\n",
        "SCHEDULE_LINK = \"/api/v1/schedule\"\n",
        "GAME_LINK = \"/api/v1/game/\"\n",
        "GAMETYPE_REGULATION = \"gameType=R\"\n",
        "SEASON = \"season=\"\n",
        "START_DATE = \"startDate=\"\n",
        "END_DATE = \"endDate=\"\n",
        "YEARS_QTY = 7\n"
      ],
      "execution_count": 84,
      "outputs": [
        {
          "output_type": "stream",
          "name": "stdout",
          "text": [
            "{'seasonId': '20152016', 'start_date': '2015-10-07'}\n"
          ]
        }
      ]
    },
    {
      "cell_type": "markdown",
      "metadata": {
        "id": "SsWZE57_dgyS"
      },
      "source": [
        "First lets get the timeline that is wanted for analysis:\n",
        "\n",
        "Starting date will be the starting day of first season in analysis (this season - YEARS_QTY), and ending date will be today"
      ]
    },
    {
      "cell_type": "code",
      "metadata": {
        "id": "w-kosiauddF9"
      },
      "source": [
        "resp = requests.get(\"{}{}\".format(BASE_URL,SEASONS_LINK))\n",
        "seasons_all = json.loads(resp.text)\n",
        "\n",
        "first_season = {\n",
        "    'seasonId': seasons_all['seasons'][-YEARS_QTY]['seasonId'],\n",
        "    'start_date': seasons_all['seasons'][-YEARS_QTY]['regularSeasonStartDate']\n",
        "}\n",
        "\n",
        "print(first_season)\n",
        "end_date = (datetime.today()-timedelta(days=1)).strftime('%Y-%m-%d')"
      ],
      "execution_count": null,
      "outputs": []
    },
    {
      "cell_type": "markdown",
      "metadata": {
        "id": "8vNBPtLcbVzh"
      },
      "source": [
        "Here we get the list of games between timespan defined earlier\n",
        "\n",
        "**Note: This will take quite a lot of time, since NHL does not provide any gathered information about penalties, so they need to be collected from API endpoint that contains all data from single game**\n",
        "\n",
        "\n",
        "##TODO: \n",
        "Collected data could be saved to csv file, where it would be available quicker "
      ]
    },
    {
      "cell_type": "code",
      "metadata": {
        "colab": {
          "base_uri": "https://localhost:8080/"
        },
        "id": "LQ8JNM6ilYfs",
        "outputId": "9878ef6f-ba94-4dba-87ba-2f4ea65dbd6b"
      },
      "source": [
        "\n",
        "penalty_data = pd.DataFrame({\n",
        "    'season': pd.Series(dtype='str'),\n",
        "    'gamePk': pd.Series(dtype='int'),\n",
        "    'penalty': pd.Series(dtype='str'),\n",
        "    'position': pd.Series(dtype='str')})\n",
        "\n",
        "resp = requests.get(\"{}{}?{}&{}{}&{}{}\".format(BASE_URL, SCHEDULE_LINK, GAMETYPE_REGULATION, START_DATE, first_season['start_date'], END_DATE, end_date))\n",
        "schedules = json.loads(resp.text)\n",
        "games_df = pd.json_normalize(\n",
        "    data = schedules['dates'],\n",
        "    record_path = ['games'],\n",
        "    errors='ignore'\n",
        ") \n",
        "\n",
        "\n",
        "for game in games_df['gamePk']:\n",
        "  resp = requests.get(\"{}{}{}/feed/live\".format(BASE_URL, GAME_LINK, game))\n",
        "  game_plays = json.loads(resp.text)\n",
        "  for id in game_plays['liveData']['plays']['penaltyPlays']:\n",
        "    #Funny thing here is that gameData/players do not include goalies. So trying to get position from player that is a goalie gives KeyError. Current implementation is only \"temporary\"\n",
        "    try:\n",
        "      position = game_plays['gameData']['players'][\"ID{}\".format(str(game_plays['liveData']['plays']['allPlays'][id]['players'][0]['player']['id']))]['primaryPosition']['type']\n",
        "    except KeyError: \n",
        "      position = \"Goalie\"\n",
        "\n",
        "    penalty_data = penalty_data.append({\n",
        "        'season': game_plays['gameData']['game']['season'],\n",
        "        'gamePk': game_plays['gamePk'],\n",
        "        'penalty': game_plays['liveData']['plays']['allPlays'][id]['result']['secondaryType'],\n",
        "        'position': position\n",
        "    }, ignore_index = True)\n",
        "\n",
        "print(penalty_data)"
      ],
      "execution_count": 89,
      "outputs": [
        {
          "output_type": "stream",
          "name": "stdout",
          "text": [
            "         season      gamePk                    penalty    position\n",
            "0      20152016  2015020001                   Boarding     Forward\n",
            "1      20152016  2015020001                   Roughing     Forward\n",
            "2      20152016  2015020001               Interference     Forward\n",
            "3      20152016  2015020001  Interference - Goalkeeper     Forward\n",
            "4      20152016  2015020001                   Tripping     Forward\n",
            "...         ...         ...                        ...         ...\n",
            "54320  20212022  2021020343                    Holding     Forward\n",
            "54321  20212022  2021020343                   Tripping     Forward\n",
            "54322  20212022  2021020345                    Holding     Forward\n",
            "54323  20212022  2021020345               Interference  Defenseman\n",
            "54324  20212022  2021020345                   Tripping  Defenseman\n",
            "\n",
            "[54325 rows x 4 columns]\n"
          ]
        }
      ]
    },
    {
      "cell_type": "markdown",
      "metadata": {
        "id": "txrnhEwjeRLN"
      },
      "source": [
        "Next we filter out cross checking penalty counts from each year"
      ]
    },
    {
      "cell_type": "code",
      "metadata": {
        "colab": {
          "base_uri": "https://localhost:8080/",
          "height": 380
        },
        "id": "CSLS7zyJJNCF",
        "outputId": "e3640a64-b9f1-45b7-971f-bf743e924bdd"
      },
      "source": [
        "crosschecks_df = penalty_data[penalty_data['penalty'] == 'Cross checking']\n",
        "\n",
        "crosschecks_averages = crosschecks_df[['season', 'penalty']].groupby('season').count().reset_index()\n",
        "crosschecks_averages\n"
      ],
      "execution_count": 233,
      "outputs": [
        {
          "output_type": "stream",
          "name": "stdout",
          "text": [
            "       season      gamePk         penalty    position\n",
            "8    20152016  2015020002  Cross checking  Defenseman\n",
            "14   20152016  2015020003  Cross checking  Defenseman\n",
            "70   20152016  2015020009  Cross checking  Defenseman\n",
            "99   20152016  2015020013  Cross checking     Forward\n",
            "129  20152016  2015020017  Cross checking     Forward\n"
          ]
        },
        {
          "output_type": "execute_result",
          "data": {
            "text/html": [
              "<div>\n",
              "<style scoped>\n",
              "    .dataframe tbody tr th:only-of-type {\n",
              "        vertical-align: middle;\n",
              "    }\n",
              "\n",
              "    .dataframe tbody tr th {\n",
              "        vertical-align: top;\n",
              "    }\n",
              "\n",
              "    .dataframe thead th {\n",
              "        text-align: right;\n",
              "    }\n",
              "</style>\n",
              "<table border=\"1\" class=\"dataframe\">\n",
              "  <thead>\n",
              "    <tr style=\"text-align: right;\">\n",
              "      <th></th>\n",
              "      <th>season</th>\n",
              "      <th>penalty</th>\n",
              "    </tr>\n",
              "  </thead>\n",
              "  <tbody>\n",
              "    <tr>\n",
              "      <th>0</th>\n",
              "      <td>20152016</td>\n",
              "      <td>378</td>\n",
              "    </tr>\n",
              "    <tr>\n",
              "      <th>1</th>\n",
              "      <td>20162017</td>\n",
              "      <td>365</td>\n",
              "    </tr>\n",
              "    <tr>\n",
              "      <th>2</th>\n",
              "      <td>20172018</td>\n",
              "      <td>405</td>\n",
              "    </tr>\n",
              "    <tr>\n",
              "      <th>3</th>\n",
              "      <td>20182019</td>\n",
              "      <td>361</td>\n",
              "    </tr>\n",
              "    <tr>\n",
              "      <th>4</th>\n",
              "      <td>20192020</td>\n",
              "      <td>279</td>\n",
              "    </tr>\n",
              "    <tr>\n",
              "      <th>5</th>\n",
              "      <td>20202021</td>\n",
              "      <td>260</td>\n",
              "    </tr>\n",
              "    <tr>\n",
              "      <th>6</th>\n",
              "      <td>20212022</td>\n",
              "      <td>169</td>\n",
              "    </tr>\n",
              "  </tbody>\n",
              "</table>\n",
              "</div>"
            ],
            "text/plain": [
              "     season  penalty\n",
              "0  20152016      378\n",
              "1  20162017      365\n",
              "2  20172018      405\n",
              "3  20182019      361\n",
              "4  20192020      279\n",
              "5  20202021      260\n",
              "6  20212022      169"
            ]
          },
          "metadata": {},
          "execution_count": 233
        }
      ]
    },
    {
      "cell_type": "markdown",
      "metadata": {
        "id": "5QV6StJnef8Z"
      },
      "source": [
        "This part here counts penalties by defenseman/forward, and save it to dict. This will be appended in later part to other data"
      ]
    },
    {
      "cell_type": "code",
      "metadata": {
        "colab": {
          "base_uri": "https://localhost:8080/"
        },
        "id": "TdryMA81C2wj",
        "outputId": "f046e729-343a-4fee-defe-cea0aebe86a8"
      },
      "source": [
        "\n",
        "positions = {'defenseman': [], 'forward': []}\n",
        "for id in crosschecks_averages['season']:\n",
        "  positions['defenseman'].append(crosschecks_df[crosschecks_df['season'] == id][crosschecks_df['position'] == 'Defenseman'].count()[0])\n",
        "  positions['forward'].append(crosschecks_df[crosschecks_df['season'] == id][crosschecks_df['position'] == 'Forward'].count()[0])\n"
      ],
      "execution_count": 234,
      "outputs": [
        {
          "output_type": "stream",
          "name": "stdout",
          "text": [
            "{'defenseman': [169, 168, 195, 173, 111, 121, 80], 'forward': [209, 197, 210, 188, 168, 139, 89]}\n"
          ]
        },
        {
          "output_type": "stream",
          "name": "stderr",
          "text": [
            "/usr/local/lib/python3.7/dist-packages/ipykernel_launcher.py:6: UserWarning: Boolean Series key will be reindexed to match DataFrame index.\n",
            "  \n",
            "/usr/local/lib/python3.7/dist-packages/ipykernel_launcher.py:7: UserWarning: Boolean Series key will be reindexed to match DataFrame index.\n",
            "  import sys\n"
          ]
        }
      ]
    },
    {
      "cell_type": "markdown",
      "metadata": {
        "id": "Abx6aIyneyjE"
      },
      "source": [
        ""
      ]
    },
    {
      "cell_type": "code",
      "metadata": {
        "colab": {
          "base_uri": "https://localhost:8080/",
          "height": 417
        },
        "id": "odrrCcOkYB6w",
        "outputId": "dad8109d-74bc-4a9a-fdac-77aa95a38fb0"
      },
      "source": [
        "#Add amount of games to crosscheck dataframe\n",
        "print(games_df['season'].value_counts())\n",
        "games_per_season = games_df['season'].value_counts().reset_index().rename(columns={'season': 'season_games'})\n",
        "crosschecks_averages = pd.concat([crosschecks_averages, games_per_season['season_games']], axis=1)\n",
        "\n",
        "crosschecks_pergame = crosschecks_averages.assign(crosschecks_per_game = lambda x: (x['penalty']) / x['season_games'])\n",
        "crosschecks_pergame = pd.concat([crosschecks_pergame, pd.DataFrame(positions)], axis=1)\n",
        "crosschecks_pergame = crosschecks_pergame.assign(defenseman_perc = lambda x: x['defenseman'] / x['penalty'] * 100)\n",
        "\n",
        "crosschecks_pergame"
      ],
      "execution_count": 235,
      "outputs": [
        {
          "output_type": "stream",
          "name": "stdout",
          "text": [
            "20182019    1271\n",
            "20172018    1271\n",
            "20162017    1230\n",
            "20152016    1230\n",
            "20192020    1094\n",
            "20202021     868\n",
            "20212022     344\n",
            "Name: season, dtype: int64\n"
          ]
        },
        {
          "output_type": "execute_result",
          "data": {
            "text/html": [
              "<div>\n",
              "<style scoped>\n",
              "    .dataframe tbody tr th:only-of-type {\n",
              "        vertical-align: middle;\n",
              "    }\n",
              "\n",
              "    .dataframe tbody tr th {\n",
              "        vertical-align: top;\n",
              "    }\n",
              "\n",
              "    .dataframe thead th {\n",
              "        text-align: right;\n",
              "    }\n",
              "</style>\n",
              "<table border=\"1\" class=\"dataframe\">\n",
              "  <thead>\n",
              "    <tr style=\"text-align: right;\">\n",
              "      <th></th>\n",
              "      <th>season</th>\n",
              "      <th>penalty</th>\n",
              "      <th>season_games</th>\n",
              "      <th>crosschecks_per_game</th>\n",
              "      <th>defenseman</th>\n",
              "      <th>forward</th>\n",
              "      <th>defenseman_perc</th>\n",
              "    </tr>\n",
              "  </thead>\n",
              "  <tbody>\n",
              "    <tr>\n",
              "      <th>0</th>\n",
              "      <td>20152016</td>\n",
              "      <td>378</td>\n",
              "      <td>1271</td>\n",
              "      <td>0.297404</td>\n",
              "      <td>169</td>\n",
              "      <td>209</td>\n",
              "      <td>44.708995</td>\n",
              "    </tr>\n",
              "    <tr>\n",
              "      <th>1</th>\n",
              "      <td>20162017</td>\n",
              "      <td>365</td>\n",
              "      <td>1271</td>\n",
              "      <td>0.287175</td>\n",
              "      <td>168</td>\n",
              "      <td>197</td>\n",
              "      <td>46.027397</td>\n",
              "    </tr>\n",
              "    <tr>\n",
              "      <th>2</th>\n",
              "      <td>20172018</td>\n",
              "      <td>405</td>\n",
              "      <td>1230</td>\n",
              "      <td>0.329268</td>\n",
              "      <td>195</td>\n",
              "      <td>210</td>\n",
              "      <td>48.148148</td>\n",
              "    </tr>\n",
              "    <tr>\n",
              "      <th>3</th>\n",
              "      <td>20182019</td>\n",
              "      <td>361</td>\n",
              "      <td>1230</td>\n",
              "      <td>0.293496</td>\n",
              "      <td>173</td>\n",
              "      <td>188</td>\n",
              "      <td>47.922438</td>\n",
              "    </tr>\n",
              "    <tr>\n",
              "      <th>4</th>\n",
              "      <td>20192020</td>\n",
              "      <td>279</td>\n",
              "      <td>1094</td>\n",
              "      <td>0.255027</td>\n",
              "      <td>111</td>\n",
              "      <td>168</td>\n",
              "      <td>39.784946</td>\n",
              "    </tr>\n",
              "    <tr>\n",
              "      <th>5</th>\n",
              "      <td>20202021</td>\n",
              "      <td>260</td>\n",
              "      <td>868</td>\n",
              "      <td>0.299539</td>\n",
              "      <td>121</td>\n",
              "      <td>139</td>\n",
              "      <td>46.538462</td>\n",
              "    </tr>\n",
              "    <tr>\n",
              "      <th>6</th>\n",
              "      <td>20212022</td>\n",
              "      <td>169</td>\n",
              "      <td>344</td>\n",
              "      <td>0.491279</td>\n",
              "      <td>80</td>\n",
              "      <td>89</td>\n",
              "      <td>47.337278</td>\n",
              "    </tr>\n",
              "  </tbody>\n",
              "</table>\n",
              "</div>"
            ],
            "text/plain": [
              "     season  penalty  season_games  ...  defenseman  forward  defenseman_perc\n",
              "0  20152016      378          1271  ...         169      209        44.708995\n",
              "1  20162017      365          1271  ...         168      197        46.027397\n",
              "2  20172018      405          1230  ...         195      210        48.148148\n",
              "3  20182019      361          1230  ...         173      188        47.922438\n",
              "4  20192020      279          1094  ...         111      168        39.784946\n",
              "5  20202021      260           868  ...         121      139        46.538462\n",
              "6  20212022      169           344  ...          80       89        47.337278\n",
              "\n",
              "[7 rows x 7 columns]"
            ]
          },
          "metadata": {},
          "execution_count": 235
        }
      ]
    },
    {
      "cell_type": "markdown",
      "metadata": {
        "id": "MNZ_Lod_e8J6"
      },
      "source": [
        "Then lets visualize"
      ]
    },
    {
      "cell_type": "code",
      "metadata": {
        "id": "-stlOMeFck0P",
        "colab": {
          "base_uri": "https://localhost:8080/",
          "height": 556
        },
        "outputId": "f0a39dd6-c666-4306-87f3-0b6f7685291c"
      },
      "source": [
        "crosschecks_pergame.plot(y=['crosschecks_per_game'], x='season', kind = 'bar', figsize = [16,8])\n",
        "plt.show()\n",
        "print(crosschecks_pergame['defenseman_perc'].mean())"
      ],
      "execution_count": 236,
      "outputs": [
        {
          "output_type": "display_data",
          "data": {
            "image/png": "[encoded data removed]",
            "text/plain": [
              "<Figure size 1152x576 with 1 Axes>"
            ]
          },
          "metadata": {
            "needs_background": "light"
          }
        },
        {
          "output_type": "stream",
          "name": "stdout",
          "text": [
            "45.78109481029666\n"
          ]
        }
      ]
    },
    {
      "cell_type": "markdown",
      "metadata": {
        "id": "h-3THuMRTME3"
      },
      "source": [
        "##Conclusions\n",
        "\n",
        "So can we make some conclusion based on data? Absolutely, I would say. Ongoing season so far (01.01.2021) has had 64% more cross-checking penalties compared to last season. \n",
        "\n",
        "Most likely the numbers will drop a bit, when players need to adjust their game so that they wont take so much penalties due to this \"rule change\". \n",
        "\n",
        "Also, I had a feeling that most cross-checking penalties are called for defensemen, but surprisingly seems that by average only ~46% of seasons cross-checking penalties are called for defensemen. So the stereotype of slow and \"old-school tough\" defenseman is the type of player is prone to cross-checking penalties might not be true at all.  "
      ]
    }
  ]
}
